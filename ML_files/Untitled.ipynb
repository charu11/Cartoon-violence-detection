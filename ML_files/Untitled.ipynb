{
 "cells": [
  {
   "cell_type": "code",
   "execution_count": 16,
   "metadata": {},
   "outputs": [],
   "source": [
    "import pandas as pd\n",
    "import numpy as np\n",
    "from textblob import TextBlob\n",
    "import re\n",
    "from nltk.corpus import stopwords\n",
    "from nltk.stem.wordnet import WordNetLemmatizer\n",
    "from tqdm import tqdm\n",
    "from numpy import savetxt\n",
    "import random\n",
    "from sklearn.utils import shuffle\n",
    "import matplotlib.pyplot as plt\n",
    "import time\n",
    "import tensorflow as tf\n",
    "from sklearn.metrics import accuracy_score,precision_score, recall_score,f1_score,roc_auc_score,roc_curve\n",
    "from tensorflow.keras.preprocessing.text import Tokenizer\n",
    "from tensorflow.keras.preprocessing.sequence import pad_sequences\n",
    "from tensorflow.keras.layers import Dense, Embedding, Bidirectional, LSTM, Dropout\n",
    "from tensorflow.keras.callbacks import Callback\n",
    "from tensorflow.keras import regularizers\n",
    "from tensorflow.keras.models import Sequential\n",
    "import matplotlib.pyplot as plt\n",
    "import pickle\n",
    "from tensorflow.keras.callbacks import EarlyStopping\n",
    "from keras.utils import to_categorical"
   ]
  },
  {
   "cell_type": "code",
   "execution_count": 27,
   "metadata": {
    "scrolled": true
   },
   "outputs": [
    {
     "data": {
      "text/html": [
       "<div>\n",
       "<style scoped>\n",
       "    .dataframe tbody tr th:only-of-type {\n",
       "        vertical-align: middle;\n",
       "    }\n",
       "\n",
       "    .dataframe tbody tr th {\n",
       "        vertical-align: top;\n",
       "    }\n",
       "\n",
       "    .dataframe thead th {\n",
       "        text-align: right;\n",
       "    }\n",
       "</style>\n",
       "<table border=\"1\" class=\"dataframe\">\n",
       "  <thead>\n",
       "    <tr style=\"text-align: right;\">\n",
       "      <th></th>\n",
       "      <th>PhraseNo</th>\n",
       "      <th>Phrase</th>\n",
       "      <th>IsHateSpeech</th>\n",
       "      <th>Score</th>\n",
       "    </tr>\n",
       "  </thead>\n",
       "  <tbody>\n",
       "    <tr>\n",
       "      <th>0</th>\n",
       "      <td>1</td>\n",
       "      <td>Yes, you! Baboon, baboon, baboon, baboon!</td>\n",
       "      <td>YES</td>\n",
       "      <td>1.0</td>\n",
       "    </tr>\n",
       "    <tr>\n",
       "      <th>1</th>\n",
       "      <td>2</td>\n",
       "      <td>Did you hear that, Marge? She called me a babo...</td>\n",
       "      <td>YES</td>\n",
       "      <td>1.0</td>\n",
       "    </tr>\n",
       "    <tr>\n",
       "      <th>2</th>\n",
       "      <td>3</td>\n",
       "      <td>Nuts.</td>\n",
       "      <td>YES</td>\n",
       "      <td>1.0</td>\n",
       "    </tr>\n",
       "    <tr>\n",
       "      <th>3</th>\n",
       "      <td>4</td>\n",
       "      <td>Mmm... hors doovers.</td>\n",
       "      <td>YES</td>\n",
       "      <td>1.0</td>\n",
       "    </tr>\n",
       "    <tr>\n",
       "      <th>4</th>\n",
       "      <td>5</td>\n",
       "      <td>You stink! You and your whole lousy operation ...</td>\n",
       "      <td>YES</td>\n",
       "      <td>1.0</td>\n",
       "    </tr>\n",
       "  </tbody>\n",
       "</table>\n",
       "</div>"
      ],
      "text/plain": [
       "   PhraseNo                                             Phrase IsHateSpeech  \\\n",
       "0         1          Yes, you! Baboon, baboon, baboon, baboon!          YES   \n",
       "1         2  Did you hear that, Marge? She called me a babo...          YES   \n",
       "2         3                                              Nuts.          YES   \n",
       "3         4                               Mmm... hors doovers.          YES   \n",
       "4         5  You stink! You and your whole lousy operation ...          YES   \n",
       "\n",
       "   Score  \n",
       "0    1.0  \n",
       "1    1.0  \n",
       "2    1.0  \n",
       "3    1.0  \n",
       "4    1.0  "
      ]
     },
     "execution_count": 27,
     "metadata": {},
     "output_type": "execute_result"
    }
   ],
   "source": [
    "df = pd.read_excel('/home/charun/Desktop/moratuwa_project/text/cartoonConvoTraining.xlsx', engine='openpyxl')\n",
    "df.head(5)"
   ]
  },
  {
   "cell_type": "code",
   "execution_count": 3,
   "metadata": {
    "scrolled": true
   },
   "outputs": [
    {
     "name": "stdout",
     "output_type": "stream",
     "text": [
      "NLTK Downloader\n",
      "---------------------------------------------------------------------------\n",
      "    d) Download   l) List    u) Update   c) Config   h) Help   q) Quit\n",
      "---------------------------------------------------------------------------\n",
      "Downloader> d\n",
      "\n",
      "Download which package (l=list; x=cancel)?\n",
      "  Identifier> l\n",
      "Packages:\n",
      "  [ ] averaged_perceptron_tagger Averaged Perceptron Tagger\n",
      "  [ ] averaged_perceptron_tagger_ru Averaged Perceptron Tagger (Russian)\n",
      "  [ ] basque_grammars..... Grammars for Basque\n",
      "  [ ] bllip_wsj_no_aux.... BLLIP Parser: WSJ Model\n",
      "  [ ] book_grammars....... Grammars from NLTK Book\n",
      "  [ ] large_grammars...... Large context-free and feature-based grammars\n",
      "                           for parser comparison\n",
      "  [ ] maxent_ne_chunker... ACE Named Entity Chunker (Maximum entropy)\n",
      "  [ ] maxent_treebank_pos_tagger Treebank Part of Speech Tagger (Maximum entropy)\n",
      "  [ ] mte_teip5........... MULTEXT-East 1984 annotated corpus 4.0\n",
      "  [ ] mwa_ppdb............ The monolingual word aligner (Sultan et al.\n",
      "                           2015) subset of the Paraphrase Database.\n",
      "  [ ] nonbreaking_prefixes Non-Breaking Prefixes (Moses Decoder)\n",
      "  [ ] panlex_swadesh...... PanLex Swadesh Corpora\n",
      "  [ ] pe08................ Cross-Framework and Cross-Domain Parser\n",
      "                           Evaluation Shared Task\n",
      "  [ ] perluniprops........ perluniprops: Index of Unicode Version 7.0.0\n",
      "                           character properties in Perl\n",
      "  [ ] porter_test......... Porter Stemmer Test Files\n",
      "  [-] pros_cons........... Pros and Cons\n",
      "Hit Enter to continue: \n",
      "  [ ] qc.................. Experimental Data for Question Classification\n",
      "  [ ] reuters............. The Reuters-21578 benchmark corpus, ApteMod\n",
      "                           version\n",
      "  [ ] rslp................ RSLP Stemmer (Removedor de Sufixos da Lingua\n",
      "                           Portuguesa)\n",
      "  [ ] rte................. PASCAL RTE Challenges 1, 2, and 3\n",
      "  [ ] sample_grammars..... Sample Grammars\n",
      "  [ ] semcor.............. SemCor 3.0\n",
      "  [ ] senseval............ SENSEVAL 2 Corpus: Sense Tagged Text\n",
      "  [ ] sentence_polarity... Sentence Polarity Dataset v1.0\n",
      "  [ ] sentiwordnet........ SentiWordNet\n",
      "  [ ] shakespeare......... Shakespeare XML Corpus Sample\n",
      "  [ ] sinica_treebank..... Sinica Treebank Corpus Sample\n",
      "  [ ] smultron............ SMULTRON Corpus Sample\n",
      "  [ ] snowball_data....... Snowball Data\n",
      "  [ ] spanish_grammars.... Grammars for Spanish\n",
      "  [ ] state_union......... C-Span State of the Union Address Corpus\n",
      "  [ ] subjectivity........ Subjectivity Dataset v1.0\n",
      "  [ ] swadesh............. Swadesh Wordlists\n",
      "  [ ] switchboard......... Switchboard Corpus Sample\n",
      "  [ ] tagsets............. Help on Tagsets\n",
      "Hit Enter to continue: \n",
      "  [ ] timit............... TIMIT Corpus Sample\n",
      "  [ ] toolbox............. Toolbox Sample Files\n",
      "  [ ] treebank............ Penn Treebank Sample\n",
      "  [ ] twitter_samples..... Twitter Samples\n",
      "  [ ] udhr2............... Universal Declaration of Human Rights Corpus\n",
      "                           (Unicode Version)\n",
      "  [ ] udhr................ Universal Declaration of Human Rights Corpus\n",
      "  [ ] unicode_samples..... Unicode Samples\n",
      "  [ ] universal_tagset.... Mappings to the Universal Part-of-Speech Tagset\n",
      "  [ ] universal_treebanks_v20 Universal Treebanks Version 2.0\n",
      "  [ ] vader_lexicon....... VADER Sentiment Lexicon\n",
      "  [ ] verbnet3............ VerbNet Lexicon, Version 3.3\n",
      "  [ ] verbnet............. VerbNet Lexicon, Version 2.1\n",
      "  [ ] webtext............. Web Text Corpus\n",
      "  [ ] wmt15_eval.......... Evaluation data from WMT15\n",
      "  [ ] word2vec_sample..... Word2Vec Sample\n",
      "  [ ] wordnet_ic.......... WordNet-InfoContent\n",
      "  [ ] words............... Word Lists\n",
      "  [ ] ycoe................ York-Toronto-Helsinki Parsed Corpus of Old\n",
      "                           English Prose\n",
      "\n",
      "Collections:\n",
      "  [P] all-corpora......... All the corpora\n",
      "Hit Enter to continue: \n",
      "  [-] all-nltk............ All packages available on nltk_data gh-pages\n",
      "                           branch\n",
      "  [-] all................. All packages\n",
      "  [P] book................ Everything used in the NLTK Book\n",
      "  [P] popular............. Popular packages\n",
      "  [-] tests............... Packages for running tests\n",
      "\n",
      "([*] marks installed packages; [-] marks out-of-date or corrupt packages;\n",
      " [P] marks partially installed collections)\n",
      "\n",
      "Download which package (l=list; x=cancel)?\n",
      "  Identifier> x\n",
      "\n",
      "---------------------------------------------------------------------------\n",
      "    d) Download   l) List    u) Update   c) Config   h) Help   q) Quit\n",
      "---------------------------------------------------------------------------\n",
      "Downloader> q\n"
     ]
    },
    {
     "data": {
      "text/plain": [
       "True"
      ]
     },
     "execution_count": 3,
     "metadata": {},
     "output_type": "execute_result"
    }
   ],
   "source": []
  },
  {
   "cell_type": "code",
   "execution_count": 28,
   "metadata": {
    "scrolled": true
   },
   "outputs": [
    {
     "name": "stderr",
     "output_type": "stream",
     "text": [
      "[nltk_data] Error loading punkt: <urlopen error [SSL:\n",
      "[nltk_data]     CERTIFICATE_VERIFY_FAILED] certificate verify failed:\n",
      "[nltk_data]     unable to get local issuer certificate (_ssl.c:1056)>\n"
     ]
    },
    {
     "data": {
      "text/plain": [
       "False"
      ]
     },
     "execution_count": 28,
     "metadata": {},
     "output_type": "execute_result"
    }
   ],
   "source": [
    "import nltk \n",
    "nltk.download('punkt', 'stopwords')"
   ]
  },
  {
   "cell_type": "code",
   "execution_count": 29,
   "metadata": {},
   "outputs": [
    {
     "data": {
      "text/html": [
       "<div>\n",
       "<style scoped>\n",
       "    .dataframe tbody tr th:only-of-type {\n",
       "        vertical-align: middle;\n",
       "    }\n",
       "\n",
       "    .dataframe tbody tr th {\n",
       "        vertical-align: top;\n",
       "    }\n",
       "\n",
       "    .dataframe thead th {\n",
       "        text-align: right;\n",
       "    }\n",
       "</style>\n",
       "<table border=\"1\" class=\"dataframe\">\n",
       "  <thead>\n",
       "    <tr style=\"text-align: right;\">\n",
       "      <th></th>\n",
       "      <th>Phrase</th>\n",
       "      <th>Score</th>\n",
       "    </tr>\n",
       "  </thead>\n",
       "  <tbody>\n",
       "    <tr>\n",
       "      <th>0</th>\n",
       "      <td>Yes, you! Baboon, baboon, baboon, baboon!</td>\n",
       "      <td>1.0</td>\n",
       "    </tr>\n",
       "    <tr>\n",
       "      <th>1</th>\n",
       "      <td>Did you hear that, Marge? She called me a babo...</td>\n",
       "      <td>1.0</td>\n",
       "    </tr>\n",
       "    <tr>\n",
       "      <th>2</th>\n",
       "      <td>Nuts.</td>\n",
       "      <td>1.0</td>\n",
       "    </tr>\n",
       "    <tr>\n",
       "      <th>3</th>\n",
       "      <td>Mmm... hors doovers.</td>\n",
       "      <td>1.0</td>\n",
       "    </tr>\n",
       "    <tr>\n",
       "      <th>4</th>\n",
       "      <td>You stink! You and your whole lousy operation ...</td>\n",
       "      <td>1.0</td>\n",
       "    </tr>\n",
       "    <tr>\n",
       "      <th>...</th>\n",
       "      <td>...</td>\n",
       "      <td>...</td>\n",
       "    </tr>\n",
       "    <tr>\n",
       "      <th>1562</th>\n",
       "      <td>No, you just have to save me. \\n</td>\n",
       "      <td>0.0</td>\n",
       "    </tr>\n",
       "    <tr>\n",
       "      <th>1563</th>\n",
       "      <td>Kyle! No!\\n</td>\n",
       "      <td>0.0</td>\n",
       "    </tr>\n",
       "    <tr>\n",
       "      <th>1564</th>\n",
       "      <td>We are gathered here to say goodbye to four ki...</td>\n",
       "      <td>0.0</td>\n",
       "    </tr>\n",
       "    <tr>\n",
       "      <th>1565</th>\n",
       "      <td>Oh Jesus, here we go again. \\n</td>\n",
       "      <td>0.0</td>\n",
       "    </tr>\n",
       "    <tr>\n",
       "      <th>1566</th>\n",
       "      <td>I have beaten ManBearPig, and we will never fo...</td>\n",
       "      <td>0.0</td>\n",
       "    </tr>\n",
       "  </tbody>\n",
       "</table>\n",
       "<p>1564 rows × 2 columns</p>\n",
       "</div>"
      ],
      "text/plain": [
       "                                                 Phrase  Score\n",
       "0             Yes, you! Baboon, baboon, baboon, baboon!    1.0\n",
       "1     Did you hear that, Marge? She called me a babo...    1.0\n",
       "2                                                 Nuts.    1.0\n",
       "3                                  Mmm... hors doovers.    1.0\n",
       "4     You stink! You and your whole lousy operation ...    1.0\n",
       "...                                                 ...    ...\n",
       "1562                   No, you just have to save me. \\n    0.0\n",
       "1563                                        Kyle! No!\\n    0.0\n",
       "1564  We are gathered here to say goodbye to four ki...    0.0\n",
       "1565                     Oh Jesus, here we go again. \\n    0.0\n",
       "1566  I have beaten ManBearPig, and we will never fo...    0.0\n",
       "\n",
       "[1564 rows x 2 columns]"
      ]
     },
     "execution_count": 29,
     "metadata": {},
     "output_type": "execute_result"
    }
   ],
   "source": [
    "df = df.drop(columns=['PhraseNo', 'IsHateSpeech'],axis=1)\n",
    "df = df.dropna()\n",
    "df\n"
   ]
  },
  {
   "cell_type": "code",
   "execution_count": 21,
   "metadata": {},
   "outputs": [
    {
     "data": {
      "text/html": [
       "<div>\n",
       "<style scoped>\n",
       "    .dataframe tbody tr th:only-of-type {\n",
       "        vertical-align: middle;\n",
       "    }\n",
       "\n",
       "    .dataframe tbody tr th {\n",
       "        vertical-align: top;\n",
       "    }\n",
       "\n",
       "    .dataframe thead th {\n",
       "        text-align: right;\n",
       "    }\n",
       "</style>\n",
       "<table border=\"1\" class=\"dataframe\">\n",
       "  <thead>\n",
       "    <tr style=\"text-align: right;\">\n",
       "      <th></th>\n",
       "      <th>level_0</th>\n",
       "      <th>index</th>\n",
       "      <th>Phrase</th>\n",
       "      <th>Score</th>\n",
       "    </tr>\n",
       "  </thead>\n",
       "  <tbody>\n",
       "    <tr>\n",
       "      <th>0</th>\n",
       "      <td>160</td>\n",
       "      <td>719</td>\n",
       "      <td>Screw you, hippie!\\n</td>\n",
       "      <td>1.0</td>\n",
       "    </tr>\n",
       "    <tr>\n",
       "      <th>1</th>\n",
       "      <td>1182</td>\n",
       "      <td>635</td>\n",
       "      <td>Your parents are dead? Goddamn, you suck, Pip!</td>\n",
       "      <td>1.0</td>\n",
       "    </tr>\n",
       "    <tr>\n",
       "      <th>2</th>\n",
       "      <td>604</td>\n",
       "      <td>1024</td>\n",
       "      <td>Right right, w-would, would you like red or wh...</td>\n",
       "      <td>0.0</td>\n",
       "    </tr>\n",
       "    <tr>\n",
       "      <th>3</th>\n",
       "      <td>690</td>\n",
       "      <td>1378</td>\n",
       "      <td>Gary who?! What is your last name?!\\n</td>\n",
       "      <td>0.0</td>\n",
       "    </tr>\n",
       "    <tr>\n",
       "      <th>4</th>\n",
       "      <td>1027</td>\n",
       "      <td>527</td>\n",
       "      <td>Sir, we actually don't give two shits about yo...</td>\n",
       "      <td>1.0</td>\n",
       "    </tr>\n",
       "    <tr>\n",
       "      <th>...</th>\n",
       "      <td>...</td>\n",
       "      <td>...</td>\n",
       "      <td>...</td>\n",
       "      <td>...</td>\n",
       "    </tr>\n",
       "    <tr>\n",
       "      <th>1559</th>\n",
       "      <td>833</td>\n",
       "      <td>156</td>\n",
       "      <td>You... bastards...</td>\n",
       "      <td>1.0</td>\n",
       "    </tr>\n",
       "    <tr>\n",
       "      <th>1560</th>\n",
       "      <td>402</td>\n",
       "      <td>8</td>\n",
       "      <td>Uh, my name's Willie, and all I do is get drun...</td>\n",
       "      <td>1.0</td>\n",
       "    </tr>\n",
       "    <tr>\n",
       "      <th>1561</th>\n",
       "      <td>925</td>\n",
       "      <td>865</td>\n",
       "      <td>Uh, hi. Our friend joined your club a while ba...</td>\n",
       "      <td>0.0</td>\n",
       "    </tr>\n",
       "    <tr>\n",
       "      <th>1562</th>\n",
       "      <td>674</td>\n",
       "      <td>62</td>\n",
       "      <td>Don't belittle my people, you fucking fatass!</td>\n",
       "      <td>1.0</td>\n",
       "    </tr>\n",
       "    <tr>\n",
       "      <th>1563</th>\n",
       "      <td>702</td>\n",
       "      <td>1213</td>\n",
       "      <td>We got six days to make it to Los Angeles. If ...</td>\n",
       "      <td>0.0</td>\n",
       "    </tr>\n",
       "  </tbody>\n",
       "</table>\n",
       "<p>1564 rows × 4 columns</p>\n",
       "</div>"
      ],
      "text/plain": [
       "      level_0  index                                             Phrase  Score\n",
       "0         160    719                               Screw you, hippie!\\n    1.0\n",
       "1        1182    635    Your parents are dead? Goddamn, you suck, Pip!     1.0\n",
       "2         604   1024  Right right, w-would, would you like red or wh...    0.0\n",
       "3         690   1378              Gary who?! What is your last name?!\\n    0.0\n",
       "4        1027    527  Sir, we actually don't give two shits about yo...    1.0\n",
       "...       ...    ...                                                ...    ...\n",
       "1559      833    156                                 You... bastards...    1.0\n",
       "1560      402      8  Uh, my name's Willie, and all I do is get drun...    1.0\n",
       "1561      925    865  Uh, hi. Our friend joined your club a while ba...    0.0\n",
       "1562      674     62     Don't belittle my people, you fucking fatass!     1.0\n",
       "1563      702   1213  We got six days to make it to Los Angeles. If ...    0.0\n",
       "\n",
       "[1564 rows x 4 columns]"
      ]
     },
     "execution_count": 21,
     "metadata": {},
     "output_type": "execute_result"
    }
   ],
   "source": []
  },
  {
   "cell_type": "code",
   "execution_count": 30,
   "metadata": {
    "scrolled": true
   },
   "outputs": [],
   "source": [
    "\n",
    "\n",
    "def form_sentence(tweet):\n",
    "    tweet = re.sub(r\"(?:\\#+[\\w_]+[\\w\\'_\\-]*[\\w_]+)\", '', tweet)\n",
    "    tweet = re.sub(r'<[^>]+>', '', tweet)\n",
    "    tweet = re.sub(r'http[s]?://(?:[a-z]|[0-9]|[$-_@.&+]|[!*\\(\\),]|(?:%[0-9a-f][0-9a-f]))+', '', tweet)\n",
    "    tweet_blob = TextBlob(tweet)\n",
    "    return ' '.join(tweet_blob.words)\n",
    "\n",
    "\n",
    "def no_user_alpha(tweet):\n",
    "    tweet_list = [ele for ele in tweet.split() if ele != 'user']\n",
    "    clean_tokens = [t for t in tweet_list if re.match(r'[^\\W\\d]*$', t)]\n",
    "    clean_s = ' '.join(clean_tokens)\n",
    "    clean_mess = [word for word in clean_s.split() if word.lower() not in stopwords.words('english')]\n",
    "    return clean_mess\n",
    "\n",
    "\n",
    "def normalization(tweet_list):\n",
    "    lem = WordNetLemmatizer()\n",
    "    normalized_tweet = []\n",
    "    for word in tweet_list:\n",
    "        normalized_text = lem.lemmatize(word, 'v')\n",
    "        normalized_tweet.append(normalized_text)\n",
    "    return normalized_tweet\n",
    "\n",
    "\n",
    "Final_words = [] \n",
    "\n",
    "\n",
    "for data in df['Phrase']:\n",
    "    filtered = normalization(no_user_alpha(form_sentence(data)))\n",
    "    word_Final = ' '.join(filtered)\n",
    "    Final_words.append(word_Final)\n",
    "\n",
    "final_bodyTrain = pd.DataFrame(Final_words, columns=['body'])"
   ]
  },
  {
   "cell_type": "code",
   "execution_count": 31,
   "metadata": {},
   "outputs": [
    {
     "data": {
      "text/html": [
       "<div>\n",
       "<style scoped>\n",
       "    .dataframe tbody tr th:only-of-type {\n",
       "        vertical-align: middle;\n",
       "    }\n",
       "\n",
       "    .dataframe tbody tr th {\n",
       "        vertical-align: top;\n",
       "    }\n",
       "\n",
       "    .dataframe thead th {\n",
       "        text-align: right;\n",
       "    }\n",
       "</style>\n",
       "<table border=\"1\" class=\"dataframe\">\n",
       "  <thead>\n",
       "    <tr style=\"text-align: right;\">\n",
       "      <th></th>\n",
       "      <th>body</th>\n",
       "    </tr>\n",
       "  </thead>\n",
       "  <tbody>\n",
       "    <tr>\n",
       "      <th>0</th>\n",
       "      <td>Yes Baboon baboon baboon baboon</td>\n",
       "    </tr>\n",
       "    <tr>\n",
       "      <th>1</th>\n",
       "      <td>hear Marge call baboon stupidest ugliest smell...</td>\n",
       "    </tr>\n",
       "    <tr>\n",
       "      <th>2</th>\n",
       "      <td>Nuts</td>\n",
       "    </tr>\n",
       "    <tr>\n",
       "      <th>3</th>\n",
       "      <td>Mmm hors doovers</td>\n",
       "    </tr>\n",
       "    <tr>\n",
       "      <th>4</th>\n",
       "      <td>stink whole lousy operation stink quit</td>\n",
       "    </tr>\n",
       "    <tr>\n",
       "      <th>...</th>\n",
       "      <td>...</td>\n",
       "    </tr>\n",
       "    <tr>\n",
       "      <th>1559</th>\n",
       "      <td>save</td>\n",
       "    </tr>\n",
       "    <tr>\n",
       "      <th>1560</th>\n",
       "      <td>Kyle</td>\n",
       "    </tr>\n",
       "    <tr>\n",
       "      <th>1561</th>\n",
       "      <td>gather say goodbye four kid try help end could...</td>\n",
       "    </tr>\n",
       "    <tr>\n",
       "      <th>1562</th>\n",
       "      <td>Oh Jesus go</td>\n",
       "    </tr>\n",
       "    <tr>\n",
       "      <th>1563</th>\n",
       "      <td>beat ManBearPig never forget name brave young ...</td>\n",
       "    </tr>\n",
       "  </tbody>\n",
       "</table>\n",
       "<p>1564 rows × 1 columns</p>\n",
       "</div>"
      ],
      "text/plain": [
       "                                                   body\n",
       "0                       Yes Baboon baboon baboon baboon\n",
       "1     hear Marge call baboon stupidest ugliest smell...\n",
       "2                                                  Nuts\n",
       "3                                      Mmm hors doovers\n",
       "4                stink whole lousy operation stink quit\n",
       "...                                                 ...\n",
       "1559                                               save\n",
       "1560                                               Kyle\n",
       "1561  gather say goodbye four kid try help end could...\n",
       "1562                                        Oh Jesus go\n",
       "1563  beat ManBearPig never forget name brave young ...\n",
       "\n",
       "[1564 rows x 1 columns]"
      ]
     },
     "execution_count": 31,
     "metadata": {},
     "output_type": "execute_result"
    }
   ],
   "source": [
    "\n",
    "final_bodyTrain"
   ]
  },
  {
   "cell_type": "code",
   "execution_count": 32,
   "metadata": {},
   "outputs": [
    {
     "name": "stderr",
     "output_type": "stream",
     "text": [
      "400000it [00:17, 22740.17it/s]\n",
      "100%|██████████| 2417/2417 [00:00<00:00, 291772.42it/s]\n"
     ]
    }
   ],
   "source": [
    "token = Tokenizer()\n",
    "token.fit_on_texts(final_bodyTrain['body'])\n",
    "\n",
    "#integer encode the documents\n",
    "seq = token.texts_to_sequences(final_bodyTrain['body'])\n",
    "\n",
    "# pad the document\n",
    "\n",
    "max_length = 100\n",
    "pad_seq = pad_sequences(seq, maxlen=max_length, padding='post')\n",
    "\n",
    "#test set\n",
    "\n",
    "#test_data = token.texts_to_sequences(final_bodyTest['body'])\n",
    "#testing_seq = pad_sequences(test_data, maxlen = max_length, padding= 'post')\n",
    "\n",
    "\n",
    "vocab_size = len(token.word_index) +1\n",
    "\n",
    "#load the embedding layer\n",
    "\n",
    "embedding_vector = {}\n",
    "\n",
    "f = open('/home/charun/Desktop/moratuwa_project/text/glove.6B/glove.6B.100d.txt')\n",
    " \n",
    "for line in tqdm(f):\n",
    "  value = line.split(' ')\n",
    "  word = value[0]\n",
    "  coef = np.array(value[1:], dtype = 'float32')\n",
    "  embedding_vector[word] = coef\n",
    "\n",
    "\n",
    "# create a weight matrix for words in training docs\n",
    "embedding_matrix = np.zeros((vocab_size, 100))\n",
    "for word,i in tqdm(token.word_index.items()):\n",
    "    embedding_value = embedding_vector.get(word)\n",
    "    if embedding_value is not None:\n",
    "        embedding_matrix[i] = embedding_value"
   ]
  },
  {
   "cell_type": "code",
   "execution_count": 33,
   "metadata": {},
   "outputs": [
    {
     "data": {
      "text/plain": [
       "(1564, 2)"
      ]
     },
     "execution_count": 33,
     "metadata": {},
     "output_type": "execute_result"
    }
   ],
   "source": [
    "y = df['Score']\n",
    "y = np.array(y)\n",
    "y = to_categorical(y)\n",
    "\n",
    "y.shape"
   ]
  },
  {
   "cell_type": "code",
   "execution_count": 34,
   "metadata": {},
   "outputs": [
    {
     "name": "stdout",
     "output_type": "stream",
     "text": [
      "Model: \"sequential_3\"\n",
      "_________________________________________________________________\n",
      "Layer (type)                 Output Shape              Param #   \n",
      "=================================================================\n",
      "embedding_3 (Embedding)      (None, 100, 100)          241800    \n",
      "_________________________________________________________________\n",
      "bidirectional_3 (Bidirection (None, 200)               160800    \n",
      "_________________________________________________________________\n",
      "dense_6 (Dense)              (None, 8)                 1608      \n",
      "_________________________________________________________________\n",
      "dropout_3 (Dropout)          (None, 8)                 0         \n",
      "_________________________________________________________________\n",
      "dense_7 (Dense)              (None, 2)                 18        \n",
      "=================================================================\n",
      "Total params: 404,226\n",
      "Trainable params: 162,426\n",
      "Non-trainable params: 241,800\n",
      "_________________________________________________________________\n",
      "Epoch 1/50\n",
      "35/35 [==============================] - 9s 179ms/step - loss: 0.7995 - accuracy: 0.6162 - val_loss: 1.0336 - val_accuracy: 0.0000e+00\n",
      "Epoch 2/50\n",
      "35/35 [==============================] - 6s 160ms/step - loss: 0.6720 - accuracy: 0.6653 - val_loss: 0.9924 - val_accuracy: 0.0330\n",
      "Epoch 3/50\n",
      "35/35 [==============================] - 4s 124ms/step - loss: 0.5609 - accuracy: 0.7198 - val_loss: 0.8751 - val_accuracy: 0.5723\n",
      "Epoch 4/50\n",
      "35/35 [==============================] - 5s 157ms/step - loss: 0.4962 - accuracy: 0.7575 - val_loss: 0.8968 - val_accuracy: 0.6138\n",
      "Epoch 5/50\n",
      "35/35 [==============================] - 5s 132ms/step - loss: 0.4181 - accuracy: 0.8124 - val_loss: 0.5957 - val_accuracy: 0.8287\n",
      "Epoch 6/50\n",
      "35/35 [==============================] - 7s 200ms/step - loss: 0.4518 - accuracy: 0.8238 - val_loss: 0.8742 - val_accuracy: 0.6468\n",
      "Epoch 7/50\n",
      "35/35 [==============================] - 7s 200ms/step - loss: 0.3872 - accuracy: 0.8288 - val_loss: 0.8167 - val_accuracy: 0.6096\n",
      "Epoch 8/50\n",
      "35/35 [==============================] - 7s 200ms/step - loss: 0.3945 - accuracy: 0.8372 - val_loss: 0.7408 - val_accuracy: 0.6691\n",
      "Epoch 9/50\n",
      "35/35 [==============================] - 7s 190ms/step - loss: 0.3742 - accuracy: 0.8605 - val_loss: 1.0042 - val_accuracy: 0.5585\n",
      "Epoch 10/50\n",
      "35/35 [==============================] - 5s 154ms/step - loss: 0.3592 - accuracy: 0.8814 - val_loss: 0.9122 - val_accuracy: 0.5862\n",
      "Epoch 11/50\n",
      "35/35 [==============================] - 5s 157ms/step - loss: 0.3487 - accuracy: 0.8659 - val_loss: 0.6325 - val_accuracy: 0.7745\n",
      "Epoch 12/50\n",
      "35/35 [==============================] - 4s 103ms/step - loss: 0.3415 - accuracy: 0.8892 - val_loss: 0.9950 - val_accuracy: 0.6064\n",
      "Epoch 13/50\n",
      "35/35 [==============================] - 4s 103ms/step - loss: 0.3399 - accuracy: 0.8730 - val_loss: 0.5942 - val_accuracy: 0.7681\n",
      "Epoch 14/50\n",
      "35/35 [==============================] - 4s 103ms/step - loss: 0.3048 - accuracy: 0.9017 - val_loss: 0.6283 - val_accuracy: 0.8128\n",
      "Epoch 15/50\n",
      "35/35 [==============================] - 3s 100ms/step - loss: 0.3155 - accuracy: 0.8807 - val_loss: 0.7631 - val_accuracy: 0.6862\n",
      "Epoch 16/50\n",
      "35/35 [==============================] - 4s 101ms/step - loss: 0.3630 - accuracy: 0.8671 - val_loss: 0.8949 - val_accuracy: 0.6032\n",
      "Epoch 17/50\n",
      "35/35 [==============================] - 4s 105ms/step - loss: 0.3184 - accuracy: 0.8886 - val_loss: 0.8943 - val_accuracy: 0.6543\n",
      "Epoch 18/50\n",
      "35/35 [==============================] - 4s 116ms/step - loss: 0.2961 - accuracy: 0.9164 - val_loss: 0.8263 - val_accuracy: 0.7457\n",
      "Epoch 19/50\n",
      "35/35 [==============================] - 4s 120ms/step - loss: 0.2794 - accuracy: 0.9002 - val_loss: 0.8238 - val_accuracy: 0.7532\n",
      "Epoch 20/50\n",
      "35/35 [==============================] - 4s 114ms/step - loss: 0.2886 - accuracy: 0.8879 - val_loss: 0.8409 - val_accuracy: 0.6989\n",
      "Epoch 21/50\n",
      "35/35 [==============================] - 4s 107ms/step - loss: 0.2951 - accuracy: 0.8887 - val_loss: 0.6828 - val_accuracy: 0.7947\n",
      "Epoch 22/50\n",
      "35/35 [==============================] - 4s 113ms/step - loss: 0.2769 - accuracy: 0.8975 - val_loss: 0.9821 - val_accuracy: 0.6330\n",
      "Epoch 23/50\n",
      "35/35 [==============================] - 4s 112ms/step - loss: 0.2953 - accuracy: 0.9036 - val_loss: 0.7595 - val_accuracy: 0.7032\n",
      "Epoch 24/50\n",
      "35/35 [==============================] - 3s 93ms/step - loss: 0.2452 - accuracy: 0.9201 - val_loss: 0.7588 - val_accuracy: 0.6968\n",
      "Epoch 25/50\n",
      "35/35 [==============================] - 4s 107ms/step - loss: 0.2525 - accuracy: 0.9027 - val_loss: 1.0431 - val_accuracy: 0.6638\n",
      "Epoch 26/50\n",
      "35/35 [==============================] - 3s 94ms/step - loss: 0.2818 - accuracy: 0.9060 - val_loss: 1.0694 - val_accuracy: 0.6181\n",
      "Epoch 27/50\n",
      "35/35 [==============================] - 3s 94ms/step - loss: 0.2446 - accuracy: 0.9215 - val_loss: 1.0651 - val_accuracy: 0.6819\n",
      "Epoch 28/50\n",
      "35/35 [==============================] - 3s 94ms/step - loss: 0.2660 - accuracy: 0.9144 - val_loss: 0.9764 - val_accuracy: 0.6532\n",
      "Epoch 29/50\n",
      "35/35 [==============================] - 3s 99ms/step - loss: 0.2285 - accuracy: 0.9190 - val_loss: 1.0240 - val_accuracy: 0.6777\n",
      "Epoch 30/50\n",
      "35/35 [==============================] - 3s 97ms/step - loss: 0.2433 - accuracy: 0.9231 - val_loss: 0.9777 - val_accuracy: 0.6957\n",
      "Epoch 31/50\n",
      "35/35 [==============================] - 3s 95ms/step - loss: 0.2689 - accuracy: 0.8902 - val_loss: 0.8844 - val_accuracy: 0.6702\n",
      "Epoch 32/50\n",
      "35/35 [==============================] - 4s 106ms/step - loss: 0.2377 - accuracy: 0.9106 - val_loss: 0.7320 - val_accuracy: 0.7713\n",
      "Epoch 33/50\n",
      "35/35 [==============================] - 4s 104ms/step - loss: 0.2432 - accuracy: 0.9151 - val_loss: 1.0218 - val_accuracy: 0.6532\n",
      "Epoch 34/50\n",
      "35/35 [==============================] - 3s 96ms/step - loss: 0.2415 - accuracy: 0.9037 - val_loss: 0.9929 - val_accuracy: 0.6191\n",
      "Epoch 35/50\n",
      "35/35 [==============================] - 3s 93ms/step - loss: 0.2492 - accuracy: 0.8893 - val_loss: 0.9285 - val_accuracy: 0.6936\n",
      "Epoch 36/50\n",
      "35/35 [==============================] - 3s 94ms/step - loss: 0.2415 - accuracy: 0.9056 - val_loss: 0.9236 - val_accuracy: 0.7255\n",
      "Epoch 37/50\n",
      "35/35 [==============================] - 3s 97ms/step - loss: 0.2185 - accuracy: 0.9207 - val_loss: 0.8997 - val_accuracy: 0.7351\n",
      "Epoch 38/50\n",
      "35/35 [==============================] - 3s 89ms/step - loss: 0.2327 - accuracy: 0.9179 - val_loss: 0.6515 - val_accuracy: 0.8426\n",
      "Epoch 39/50\n",
      "35/35 [==============================] - 3s 93ms/step - loss: 0.2336 - accuracy: 0.9201 - val_loss: 0.9794 - val_accuracy: 0.7394\n",
      "Epoch 40/50\n",
      "35/35 [==============================] - 3s 90ms/step - loss: 0.2413 - accuracy: 0.9030 - val_loss: 1.1414 - val_accuracy: 0.6745\n",
      "Epoch 41/50\n",
      "35/35 [==============================] - 5s 132ms/step - loss: 0.2228 - accuracy: 0.9165 - val_loss: 1.2751 - val_accuracy: 0.6085\n",
      "Epoch 42/50\n",
      "35/35 [==============================] - 4s 118ms/step - loss: 0.2259 - accuracy: 0.9076 - val_loss: 0.8702 - val_accuracy: 0.7202\n",
      "Epoch 43/50\n",
      "35/35 [==============================] - 6s 169ms/step - loss: 0.2448 - accuracy: 0.9074 - val_loss: 1.0486 - val_accuracy: 0.7277\n",
      "Epoch 44/50\n",
      "35/35 [==============================] - 4s 107ms/step - loss: 0.2181 - accuracy: 0.9218 - val_loss: 0.7712 - val_accuracy: 0.8096\n",
      "Epoch 45/50\n",
      "35/35 [==============================] - 6s 171ms/step - loss: 0.2379 - accuracy: 0.9112 - val_loss: 0.9925 - val_accuracy: 0.7181\n",
      "Epoch 46/50\n",
      "35/35 [==============================] - 4s 110ms/step - loss: 0.2167 - accuracy: 0.9142 - val_loss: 0.8622 - val_accuracy: 0.7032\n",
      "Epoch 47/50\n",
      "35/35 [==============================] - 4s 101ms/step - loss: 0.1954 - accuracy: 0.9334 - val_loss: 1.0231 - val_accuracy: 0.6840\n",
      "Epoch 48/50\n",
      "35/35 [==============================] - 4s 116ms/step - loss: 0.2246 - accuracy: 0.9176 - val_loss: 1.0932 - val_accuracy: 0.6266\n",
      "Epoch 49/50\n",
      "35/35 [==============================] - 5s 142ms/step - loss: 0.2311 - accuracy: 0.9067 - val_loss: 0.8826 - val_accuracy: 0.7160\n",
      "Epoch 50/50\n",
      "35/35 [==============================] - 5s 147ms/step - loss: 0.1827 - accuracy: 0.9331 - val_loss: 1.0651 - val_accuracy: 0.7319\n"
     ]
    }
   ],
   "source": [
    "\n",
    "\n",
    "\n",
    "#define the model\n",
    "\n",
    "model = Sequential()\n",
    "model.add(Embedding(vocab_size, 100, weights = [embedding_matrix], input_length=max_length, trainable=False))\n",
    "model.add(Bidirectional(LSTM(100, dropout=0.5)))\n",
    "model.add(Dense(8, activation='relu',kernel_regularizer=regularizers.l2(0.01)))\n",
    "model.add(Dropout(0.5))\n",
    "model.add(Dense(2, activation='sigmoid'))\n",
    "model.summary()\n",
    "\n",
    "\n",
    "model.compile(\n",
    "    optimizer = 'adam',\n",
    "    loss = 'binary_crossentropy',\n",
    "    #metrics = [tf.keras.metrics.Accuracy(), tf.keras.metrics.Precision(), tf.keras.metrics.Recall()]\n",
    "    metrics = [tf.keras.metrics.BinaryAccuracy(name='accuracy')])\n",
    "\n",
    "\n",
    "history = model.fit(\n",
    "    pad_seq, y, \n",
    "    batch_size = 32,\n",
    "    epochs = 50,\n",
    "    #validation_data = (testing_seq, tweet_test['sentiment']),\n",
    "    validation_split = 0.3\n",
    "    \n",
    "    #allbacks = [callback]\n",
    ")\n",
    "\n",
    "model.save('/home/charun/Desktop/moratuwa_project/text/text_model.h5')"
   ]
  },
  {
   "cell_type": "code",
   "execution_count": null,
   "metadata": {},
   "outputs": [],
   "source": []
  },
  {
   "cell_type": "code",
   "execution_count": 35,
   "metadata": {},
   "outputs": [
    {
     "data": {
      "image/png": "[encoded data removed]",
      "text/plain": [
       "<Figure size 432x288 with 1 Axes>"
      ]
     },
     "metadata": {
      "needs_background": "light"
     },
     "output_type": "display_data"
    }
   ],
   "source": [
    "plt.plot(history.history['accuracy'])\n",
    "plt.plot(history.history['val_accuracy'])\n",
    "\n",
    "plt.title('model accuracy of Text dataset')\n",
    "plt.ylabel('accuracy')\n",
    "plt.xlabel('epoch')\n",
    "plt.legend(['train', 'test'], loc='lower right')\n",
    "plt.show()"
   ]
  },
  {
   "cell_type": "code",
   "execution_count": 36,
   "metadata": {},
   "outputs": [
    {
     "data": {
      "image/png": "[encoded data removed]",
      "text/plain": [
       "<Figure size 432x288 with 1 Axes>"
      ]
     },
     "metadata": {
      "needs_background": "light"
     },
     "output_type": "display_data"
    }
   ],
   "source": [
    "plt.plot(history.history['loss'])\n",
    "plt.plot(history.history['val_loss'])\n",
    "\n",
    "plt.title('model loss of text dataset')\n",
    "plt.ylabel('loss')\n",
    "plt.xlabel('epoch')\n",
    "plt.legend(['train', 'test'], loc='lower right')\n",
    "plt.show()"
   ]
  },
  {
   "cell_type": "code",
   "execution_count": null,
   "metadata": {},
   "outputs": [],
   "source": []
  },
  {
   "cell_type": "code",
   "execution_count": null,
   "metadata": {},
   "outputs": [],
   "source": [
    "!pip install numpy==1.19.5"
   ]
  },
  {
   "cell_type": "code",
   "execution_count": 70,
   "metadata": {},
   "outputs": [
    {
     "name": "stdout",
     "output_type": "stream",
     "text": [
      "Collecting moviepy\n",
      "\u001b[?25l  Downloading https://files.pythonhosted.org/packages/18/54/01a8c4e35c75ca9724d19a7e4de9dc23f0ceb8769102c7de056113af61c3/moviepy-1.0.3.tar.gz (388kB)\n",
      "\u001b[K     |████████████████████████████████| 389kB 101kB/s eta 0:00:01\n",
      "\u001b[?25hRequirement already satisfied: decorator<5.0,>=4.0.2 in /snap/jupyter/6/lib/python3.7/site-packages (from moviepy) (4.4.0)\n",
      "Requirement already satisfied: tqdm<5.0,>=4.11.2 in /home/charun/snap/jupyter/common/lib/python3.7/site-packages (from moviepy) (4.60.0)\n",
      "Requirement already satisfied: requests<3.0,>=2.8.1 in /home/charun/snap/jupyter/common/lib/python3.7/site-packages (from moviepy) (2.25.1)\n",
      "Collecting proglog<=1.0.0 (from moviepy)\n",
      "  Downloading https://files.pythonhosted.org/packages/fe/ab/4cb19b578e1364c0b2d6efd6521a8b4b4e5c4ae6528041d31a2a951dd991/proglog-0.1.9.tar.gz\n",
      "Requirement already satisfied: numpy>=1.17.3 in /home/charun/snap/jupyter/common/lib/python3.7/site-packages (from moviepy) (1.19.5)\n",
      "Collecting imageio<3.0,>=2.5 (from moviepy)\n",
      "\u001b[?25l  Downloading https://files.pythonhosted.org/packages/6e/57/5d899fae74c1752f52869b613a8210a2480e1a69688e65df6cb26117d45d/imageio-2.9.0-py3-none-any.whl (3.3MB)\n",
      "\u001b[K     |████████████████████████████████| 3.3MB 1.3MB/s eta 0:00:01\n",
      "\u001b[?25hCollecting imageio_ffmpeg>=0.2.0 (from moviepy)\n",
      "\u001b[?25l  Downloading https://files.pythonhosted.org/packages/89/0f/4b49476d185a273163fa648eaf1e7d4190661d1bbf37ec2975b84df9de02/imageio_ffmpeg-0.4.3-py3-none-manylinux2010_x86_64.whl (26.9MB)\n",
      "\u001b[K     |████████████████████████████████| 26.9MB 3.1MB/s eta 0:00:01\n",
      "\u001b[?25hRequirement already satisfied: certifi>=2017.4.17 in /snap/jupyter/6/lib/python3.7/site-packages (from requests<3.0,>=2.8.1->moviepy) (2019.3.9)\n",
      "Requirement already satisfied: urllib3<1.27,>=1.21.1 in /home/charun/snap/jupyter/common/lib/python3.7/site-packages (from requests<3.0,>=2.8.1->moviepy) (1.26.4)\n",
      "Requirement already satisfied: idna<3,>=2.5 in /home/charun/snap/jupyter/common/lib/python3.7/site-packages (from requests<3.0,>=2.8.1->moviepy) (2.10)\n",
      "Requirement already satisfied: chardet<5,>=3.0.2 in /home/charun/snap/jupyter/common/lib/python3.7/site-packages (from requests<3.0,>=2.8.1->moviepy) (4.0.0)\n",
      "Requirement already satisfied: pillow in /home/charun/snap/jupyter/common/lib/python3.7/site-packages (from imageio<3.0,>=2.5->moviepy) (8.2.0)\n",
      "Building wheels for collected packages: moviepy, proglog\n",
      "  Building wheel for moviepy (setup.py) ... \u001b[?25ldone\n",
      "\u001b[?25h  Stored in directory: /home/charun/snap/jupyter/6/.cache/pip/wheels/e0/fe/1c/f4e6dca9e828d4b979c04e461d7fcc5b8e7bd35f947e665b65\n",
      "  Building wheel for proglog (setup.py) ... \u001b[?25ldone\n",
      "\u001b[?25h  Stored in directory: /home/charun/snap/jupyter/6/.cache/pip/wheels/65/56/60/1d0306a8d90b188af393c1812ddb502a8821b70917f82dcc00\n",
      "Successfully built moviepy proglog\n",
      "Installing collected packages: proglog, imageio, imageio-ffmpeg, moviepy\n",
      "Successfully installed imageio-2.9.0 imageio-ffmpeg-0.4.3 moviepy-1.0.3 proglog-0.1.9\n"
     ]
    }
   ],
   "source": [
    "!pip install moviepy"
   ]
  },
  {
   "cell_type": "code",
   "execution_count": 71,
   "metadata": {},
   "outputs": [
    {
     "name": "stderr",
     "output_type": "stream",
     "text": [
      "chunk:   8%|▊         | 141/1688 [00:00<00:01, 1408.90it/s, now=None]"
     ]
    },
    {
     "name": "stdout",
     "output_type": "stream",
     "text": [
      "MoviePy - Writing audio in /home/charun/Desktop/moratuwa_project/text/output.wav\n"
     ]
    },
    {
     "name": "stderr",
     "output_type": "stream",
     "text": [
      "                                                                      "
     ]
    },
    {
     "name": "stdout",
     "output_type": "stream",
     "text": [
      "MoviePy - Done.\n"
     ]
    },
    {
     "name": "stderr",
     "output_type": "stream",
     "text": [
      "\r"
     ]
    }
   ],
   "source": [
    "import moviepy.editor as mp\n",
    "\n",
    "video = mp.VideoFileClip(r\"/home/charun/Desktop/moratuwa_project/text/videoplayback.mp4\")\n",
    "video.audio.write_audiofile(r\"/home/charun/Desktop/moratuwa_project/text/output.wav\")\n",
    "\n"
   ]
  },
  {
   "cell_type": "code",
   "execution_count": 73,
   "metadata": {},
   "outputs": [
    {
     "ename": "ApiException",
     "evalue": "Error: <HTML><HEAD>\n<TITLE>Internal Server Error</TITLE>\n</HEAD><BODY>\n<H1>Internal Server Error - Write</H1>\nThe server encountered an internal error or misconfiguration and was unable to\ncomplete your request.<P>\nReference&#32;&#35;4&#46;14a6d67d&#46;1619585834&#46;1980a859\n</BODY></HTML>\n, Code: 503",
     "output_type": "error",
     "traceback": [
      "\u001b[0;31m---------------------------------------------------------------------------\u001b[0m",
      "\u001b[0;31mApiException\u001b[0m                              Traceback (most recent call last)",
      "\u001b[0;32m<ipython-input-73-4d4eadd6ee00>\u001b[0m in \u001b[0;36m<module>\u001b[0;34m\u001b[0m\n\u001b[1;32m     52\u001b[0m \u001b[0;32mwith\u001b[0m \u001b[0mopen\u001b[0m\u001b[0;34m(\u001b[0m\u001b[0;34m'/home/charun/Desktop/moratuwa_project/text/output.wav'\u001b[0m\u001b[0;34m,\u001b[0m \u001b[0;34m'rb'\u001b[0m\u001b[0;34m)\u001b[0m \u001b[0;32mas\u001b[0m \u001b[0mf\u001b[0m\u001b[0;34m:\u001b[0m\u001b[0;34m\u001b[0m\u001b[0;34m\u001b[0m\u001b[0m\n\u001b[1;32m     53\u001b[0m     \u001b[0;31m#opening the audio file\u001b[0m\u001b[0;34m\u001b[0m\u001b[0;34m\u001b[0m\u001b[0;34m\u001b[0m\u001b[0m\n\u001b[0;32m---> 54\u001b[0;31m     \u001b[0mres\u001b[0m \u001b[0;34m=\u001b[0m \u001b[0mstt\u001b[0m\u001b[0;34m.\u001b[0m\u001b[0mrecognize\u001b[0m\u001b[0;34m(\u001b[0m\u001b[0maudio\u001b[0m\u001b[0;34m=\u001b[0m\u001b[0mf\u001b[0m\u001b[0;34m,\u001b[0m \u001b[0mcontent_type\u001b[0m\u001b[0;34m=\u001b[0m\u001b[0;34m'audio/wav'\u001b[0m\u001b[0;34m,\u001b[0m \u001b[0mmodel\u001b[0m\u001b[0;34m=\u001b[0m\u001b[0;34m'en-AU_NarrowbandModel'\u001b[0m\u001b[0;34m,\u001b[0m \u001b[0mcontinuous\u001b[0m\u001b[0;34m=\u001b[0m\u001b[0;32mTrue\u001b[0m\u001b[0;34m)\u001b[0m\u001b[0;34m.\u001b[0m\u001b[0mget_result\u001b[0m\u001b[0;34m(\u001b[0m\u001b[0;34m)\u001b[0m\u001b[0;34m\u001b[0m\u001b[0;34m\u001b[0m\u001b[0m\n\u001b[0m\u001b[1;32m     55\u001b[0m     \u001b[0;31m#use recognize method in speech to text service to convert the audio to text\u001b[0m\u001b[0;34m\u001b[0m\u001b[0;34m\u001b[0m\u001b[0;34m\u001b[0m\u001b[0m\n\u001b[1;32m     56\u001b[0m \u001b[0;34m\u001b[0m\u001b[0m\n",
      "\u001b[0;32m/home/charun/snap/jupyter/common/lib/python3.7/site-packages/ibm_watson/speech_to_text_v1.py\u001b[0m in \u001b[0;36mrecognize\u001b[0;34m(self, audio, content_type, model, language_customization_id, acoustic_customization_id, base_model_version, customization_weight, inactivity_timeout, keywords, keywords_threshold, max_alternatives, word_alternatives_threshold, word_confidence, timestamps, profanity_filter, smart_formatting, speaker_labels, customization_id, grammar_name, redaction, audio_metrics, end_of_phrase_silence_time, split_transcript_at_phrase_end, speech_detector_sensitivity, background_audio_suppression, **kwargs)\u001b[0m\n\u001b[1;32m    504\u001b[0m                                        data=data)\n\u001b[1;32m    505\u001b[0m \u001b[0;34m\u001b[0m\u001b[0m\n\u001b[0;32m--> 506\u001b[0;31m         \u001b[0mresponse\u001b[0m \u001b[0;34m=\u001b[0m \u001b[0mself\u001b[0m\u001b[0;34m.\u001b[0m\u001b[0msend\u001b[0m\u001b[0;34m(\u001b[0m\u001b[0mrequest\u001b[0m\u001b[0;34m)\u001b[0m\u001b[0;34m\u001b[0m\u001b[0;34m\u001b[0m\u001b[0m\n\u001b[0m\u001b[1;32m    507\u001b[0m         \u001b[0;32mreturn\u001b[0m \u001b[0mresponse\u001b[0m\u001b[0;34m\u001b[0m\u001b[0;34m\u001b[0m\u001b[0m\n\u001b[1;32m    508\u001b[0m \u001b[0;34m\u001b[0m\u001b[0m\n",
      "\u001b[0;32m/home/charun/snap/jupyter/common/lib/python3.7/site-packages/ibm_cloud_sdk_core/base_service.py\u001b[0m in \u001b[0;36msend\u001b[0;34m(self, request, **kwargs)\u001b[0m\n\u001b[1;32m    300\u001b[0m                                         status_code=response.status_code)\n\u001b[1;32m    301\u001b[0m \u001b[0;34m\u001b[0m\u001b[0m\n\u001b[0;32m--> 302\u001b[0;31m             \u001b[0;32mraise\u001b[0m \u001b[0mApiException\u001b[0m\u001b[0;34m(\u001b[0m\u001b[0mresponse\u001b[0m\u001b[0;34m.\u001b[0m\u001b[0mstatus_code\u001b[0m\u001b[0;34m,\u001b[0m \u001b[0mhttp_response\u001b[0m\u001b[0;34m=\u001b[0m\u001b[0mresponse\u001b[0m\u001b[0;34m)\u001b[0m\u001b[0;34m\u001b[0m\u001b[0;34m\u001b[0m\u001b[0m\n\u001b[0m\u001b[1;32m    303\u001b[0m         \u001b[0;32mexcept\u001b[0m \u001b[0mrequests\u001b[0m\u001b[0;34m.\u001b[0m\u001b[0mexceptions\u001b[0m\u001b[0;34m.\u001b[0m\u001b[0mSSLError\u001b[0m\u001b[0;34m:\u001b[0m\u001b[0;34m\u001b[0m\u001b[0;34m\u001b[0m\u001b[0m\n\u001b[1;32m    304\u001b[0m             \u001b[0mlogging\u001b[0m\u001b[0;34m.\u001b[0m\u001b[0mexception\u001b[0m\u001b[0;34m(\u001b[0m\u001b[0mself\u001b[0m\u001b[0;34m.\u001b[0m\u001b[0mERROR_MSG_DISABLE_SSL\u001b[0m\u001b[0;34m)\u001b[0m\u001b[0;34m\u001b[0m\u001b[0;34m\u001b[0m\u001b[0m\n",
      "\u001b[0;31mApiException\u001b[0m: Error: <HTML><HEAD>\n<TITLE>Internal Server Error</TITLE>\n</HEAD><BODY>\n<H1>Internal Server Error - Write</H1>\nThe server encountered an internal error or misconfiguration and was unable to\ncomplete your request.<P>\nReference&#32;&#35;4&#46;14a6d67d&#46;1619585834&#46;1980a859\n</BODY></HTML>\n, Code: 503"
     ]
    }
   ],
   "source": [
    "#!/usr/bin/env python\n",
    "# coding: utf-8\n",
    "\n",
    "# In[1]:\n",
    "\n",
    "\n",
    "#get_ipython().system('pip install ibm_watson')\n",
    "#!brew install ffmpeg\n",
    "\n",
    "\n",
    "# In[2]:\n",
    "\n",
    "\n",
    "import subprocess\n",
    "from ibm_watson import SpeechToTextV1\n",
    "from ibm_watson.websocket import RecognizeCallback, AudioSource\n",
    "from ibm_cloud_sdk_core.authenticators import IAMAuthenticator\n",
    "\n",
    "\n",
    "# In[3]:\n",
    "\n",
    "\n",
    "#Extract Audio\n",
    "#command = 'ffmpeg -i video1.mp4 -ab 160k -ar 44100 -vn audioff1.wav'\n",
    "#subprocess.call(command, shell=True)\n",
    "\n",
    "\n",
    "# In[4]:\n",
    "\n",
    "\n",
    "#set up IBM Watson speech to text\n",
    "#free 500mins per month\n",
    "apikey = 'kLzsZvZdSCzPFnhLgl8MBnHyfHWaFu5P7TqjBDoOnoPD'\n",
    "url = 'https://api.us-south.speech-to-text.watson.cloud.ibm.com/instances/cc020a5a-49db-4e57-8c25-2dc232ec0eba'\n",
    "\n",
    "\n",
    "# In[5]:\n",
    "\n",
    "\n",
    "# Setup service\n",
    "authenticator = IAMAuthenticator(apikey)\n",
    "#create a new IAM Authenticator and pass the API key\n",
    "stt = SpeechToTextV1(authenticator=authenticator)\n",
    "#create new speech totext service\n",
    "stt.set_service_url(url)\n",
    "#set the service url\n",
    "\n",
    "\n",
    "# In[6]:\n",
    "\n",
    "\n",
    "with open('/home/charun/Desktop/moratuwa_project/text/output.wav', 'rb') as f:\n",
    "    #opening the audio file\n",
    "    res = stt.recognize(audio=f, content_type='audio/wav', model='en-AU_NarrowbandModel', continuous=True).get_result()\n",
    "    #use recognize method in speech to text service to convert the audio to text\n",
    "\n",
    "\n",
    "\n",
    "text = [result['alternatives'][0]['transcript'].rstrip() + '.\\n' for result in res['results']]\n",
    "\n",
    "\n",
    "text = [para[0].title() + para[1:] for para in text]\n",
    "transcript = ''.join(text)\n",
    "with open('output.txt', 'w') as out:\n",
    "    out.writelines(transcript)\n",
    "\n",
    "\n",
    "print(transcript)\n",
    "\n",
    "\n",
    "\n",
    "\n",
    "\n",
    "\n"
   ]
  },
  {
   "cell_type": "code",
   "execution_count": 64,
   "metadata": {},
   "outputs": [],
   "source": [
    "import tensorflow\n",
    "\n",
    "model_path = '/home/charun/Desktop/moratuwa_project/text/text_model.h5'\n",
    "word = 'love'\n",
    "\n",
    "model = tensorflow.keras.models.load_model(model_path)\n",
    "#pred = model.predict(np.array([word]))"
   ]
  },
  {
   "cell_type": "code",
   "execution_count": 65,
   "metadata": {},
   "outputs": [],
   "source": [
    "token = Tokenizer()\n",
    "token.fit_on_texts([word])\n",
    "\n",
    "#integer encode the documents\n",
    "seq = token.texts_to_sequences([word])\n",
    "\n",
    "# pad the document\n",
    "\n",
    "max_length = 100\n",
    "pad_seq = pad_sequences(seq, maxlen=max_length, padding='post')\n",
    "\n"
   ]
  },
  {
   "cell_type": "code",
   "execution_count": 66,
   "metadata": {},
   "outputs": [
    {
     "data": {
      "text/plain": [
       "[[1]]"
      ]
     },
     "execution_count": 66,
     "metadata": {},
     "output_type": "execute_result"
    }
   ],
   "source": [
    "seq"
   ]
  },
  {
   "cell_type": "code",
   "execution_count": 67,
   "metadata": {},
   "outputs": [
    {
     "name": "stdout",
     "output_type": "stream",
     "text": [
      "WARNING:tensorflow:6 out of the last 13 calls to <function Model.make_predict_function.<locals>.predict_function at 0x7fc4dc24e400> triggered tf.function retracing. Tracing is expensive and the excessive number of tracings could be due to (1) creating @tf.function repeatedly in a loop, (2) passing tensors with different shapes, (3) passing Python objects instead of tensors. For (1), please define your @tf.function outside of the loop. For (2), @tf.function has experimental_relax_shapes=True option that relaxes argument shapes that can avoid unnecessary retracing. For (3), please refer to https://www.tensorflow.org/guide/function#controlling_retracing and https://www.tensorflow.org/api_docs/python/tf/function for  more details.\n"
     ]
    },
    {
     "data": {
      "text/plain": [
       "array([[0.59722686, 0.37479907]], dtype=float32)"
      ]
     },
     "execution_count": 67,
     "metadata": {},
     "output_type": "execute_result"
    }
   ],
   "source": [
    "pred = model.predict(pad_seq)\n",
    "pred"
   ]
  },
  {
   "cell_type": "code",
   "execution_count": 68,
   "metadata": {},
   "outputs": [
    {
     "name": "stdout",
     "output_type": "stream",
     "text": [
      "[0]\n"
     ]
    }
   ],
   "source": [
    "classes = np.argmax(pred, axis = 1)\n",
    "print(classes)\n",
    "#value = classes[0]\n",
    "#print(value)"
   ]
  },
  {
   "cell_type": "markdown",
   "metadata": {},
   "source": [
    "\n"
   ]
  }
 ],
 "metadata": {
  "kernelspec": {
   "display_name": "Python 3",
   "language": "python",
   "name": "python3"
  },
  "language_info": {
   "codemirror_mode": {
    "name": "ipython",
    "version": 3
   },
   "file_extension": ".py",
   "mimetype": "text/x-python",
   "name": "python",
   "nbconvert_exporter": "python",
   "pygments_lexer": "ipython3",
   "version": "3.7.3"
  }
 },
 "nbformat": 4,
 "nbformat_minor": 2
}
